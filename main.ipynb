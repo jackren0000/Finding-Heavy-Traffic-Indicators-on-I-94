{
 "cells": [
  {
   "cell_type": "markdown",
   "id": "5cf2a0ba",
   "metadata": {},
   "source": [
    "# Finding the heavy traffic indicators on I-94\n",
    "\n",
    "![I-94 Figma Overview](i94_figma.png)\n",
    "\n"
   ]
  },
  {
   "cell_type": "markdown",
   "id": "18fe9d0e",
   "metadata": {},
   "source": [
    "## Introduction\n",
    "Interstate 94 is an east-west Interstate Highway in United States. In this project, we are going to analyze the data to **determine the key indicators of heavy traffic** on I-94. These indicators can be weather type, time of the day, etc.\n",
    "\n",
    "## Dataset\n",
    "The dataset we are using is from UCI Machine Learning Repository, it includes all the necessary details of traffic on I-94. The data is recorded by the station located between Minneapolis and Saint Paul, and only the traffic moving **from east to west** is recorded, but is sufficient enough for this analysis."
   ]
  },
  {
   "cell_type": "markdown",
   "id": "ae79cb9e",
   "metadata": {},
   "source": [
    "## Examine the dataset"
   ]
  },
  {
   "cell_type": "code",
   "execution_count": 1,
   "id": "ed1948ad",
   "metadata": {},
   "outputs": [],
   "source": [
    "# import necessary libraries\n",
    "import numpy as np\n",
    "import matplotlib.pyplot as plt\n",
    "import pandas as pd"
   ]
  },
  {
   "cell_type": "code",
   "execution_count": 4,
   "id": "8d197081",
   "metadata": {},
   "outputs": [],
   "source": [
    "# load the dataset\n",
    "df = pd.read_csv(\"Metro_Interstate_Traffic_Volume.csv\")"
   ]
  },
  {
   "cell_type": "code",
   "execution_count": 11,
   "id": "1d819520",
   "metadata": {},
   "outputs": [
    {
     "name": "stdout",
     "output_type": "stream",
     "text": [
      "****************************************************************************************************\n",
      "General Information:\n",
      "<class 'pandas.core.frame.DataFrame'>\n",
      "RangeIndex: 48204 entries, 0 to 48203\n",
      "Data columns (total 9 columns):\n",
      " #   Column               Non-Null Count  Dtype  \n",
      "---  ------               --------------  -----  \n",
      " 0   holiday              61 non-null     object \n",
      " 1   temp                 48204 non-null  float64\n",
      " 2   rain_1h              48204 non-null  float64\n",
      " 3   snow_1h              48204 non-null  float64\n",
      " 4   clouds_all           48204 non-null  int64  \n",
      " 5   weather_main         48204 non-null  object \n",
      " 6   weather_description  48204 non-null  object \n",
      " 7   date_time            48204 non-null  object \n",
      " 8   traffic_volume       48204 non-null  int64  \n",
      "dtypes: float64(3), int64(2), object(4)\n",
      "memory usage: 3.3+ MB\n",
      "None\n",
      "****************************************************************************************************\n",
      "****************************************************************************************************\n",
      "First 5 rows:\n",
      "  holiday    temp  rain_1h  snow_1h  clouds_all weather_main  \\\n",
      "0     NaN  288.28      0.0      0.0          40       Clouds   \n",
      "1     NaN  289.36      0.0      0.0          75       Clouds   \n",
      "2     NaN  289.58      0.0      0.0          90       Clouds   \n",
      "3     NaN  290.13      0.0      0.0          90       Clouds   \n",
      "4     NaN  291.14      0.0      0.0          75       Clouds   \n",
      "\n",
      "  weather_description            date_time  traffic_volume  \n",
      "0    scattered clouds  2012-10-02 09:00:00            5545  \n",
      "1       broken clouds  2012-10-02 10:00:00            4516  \n",
      "2     overcast clouds  2012-10-02 11:00:00            4767  \n",
      "3     overcast clouds  2012-10-02 12:00:00            5026  \n",
      "4       broken clouds  2012-10-02 13:00:00            4918  \n",
      "****************************************************************************************************\n",
      "****************************************************************************************************\n",
      "Last 5 rows:\n",
      "      holiday    temp  rain_1h  snow_1h  clouds_all  weather_main  \\\n",
      "48199     NaN  283.45      0.0      0.0          75        Clouds   \n",
      "48200     NaN  282.76      0.0      0.0          90        Clouds   \n",
      "48201     NaN  282.73      0.0      0.0          90  Thunderstorm   \n",
      "48202     NaN  282.09      0.0      0.0          90        Clouds   \n",
      "48203     NaN  282.12      0.0      0.0          90        Clouds   \n",
      "\n",
      "          weather_description            date_time  traffic_volume  \n",
      "48199           broken clouds  2018-09-30 19:00:00            3543  \n",
      "48200         overcast clouds  2018-09-30 20:00:00            2781  \n",
      "48201  proximity thunderstorm  2018-09-30 21:00:00            2159  \n",
      "48202         overcast clouds  2018-09-30 22:00:00            1450  \n",
      "48203         overcast clouds  2018-09-30 23:00:00             954  \n",
      "****************************************************************************************************\n"
     ]
    }
   ],
   "source": [
    "# display the general information about the DataFrame\n",
    "print(\"*\" * 100)\n",
    "print(\"General Information:\")\n",
    "print(df.info())\n",
    "print(\"*\" * 100)\n",
    "\n",
    "# print the first and last 5 rows of the DataFrame\n",
    "print(\"*\" * 100)\n",
    "print(\"First 5 rows:\")\n",
    "print(df.head())\n",
    "print(\"*\" * 100)\n",
    "\n",
    "print(\"*\" * 100)\n",
    "print(\"Last 5 rows:\")\n",
    "print(df.tail())\n",
    "print(\"*\" * 100)"
   ]
  },
  {
   "cell_type": "markdown",
   "id": "56e87fec",
   "metadata": {},
   "source": [
    "There are several interesting observations about the dataset. First, it includes **9 columns** with different features, such as **numerical information like temperature, rain, and snow**, as well as **descriptive information like weather description**. The \"holiday\" column indicates **whether a day is a holiday**; only 61 entries are non-null, which means there are only 61 holidays in the dataset."
   ]
  },
  {
   "cell_type": "markdown",
   "id": "3a5dc8af",
   "metadata": {},
   "source": []
  },
  {
   "cell_type": "code",
   "execution_count": null,
   "id": "3a977708",
   "metadata": {},
   "outputs": [],
   "source": []
  }
 ],
 "metadata": {
  "kernelspec": {
   "display_name": "3.10.6",
   "language": "python",
   "name": "python3"
  },
  "language_info": {
   "codemirror_mode": {
    "name": "ipython",
    "version": 3
   },
   "file_extension": ".py",
   "mimetype": "text/x-python",
   "name": "python",
   "nbconvert_exporter": "python",
   "pygments_lexer": "ipython3",
   "version": "3.10.6"
  }
 },
 "nbformat": 4,
 "nbformat_minor": 5
}
